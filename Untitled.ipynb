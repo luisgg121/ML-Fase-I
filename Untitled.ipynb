{
 "cells": [
  {
   "cell_type": "code",
   "execution_count": null,
   "id": "014bde74",
   "metadata": {},
   "outputs": [],
   "source": [
    "import cv2\n",
    "import numpy as np\n",
    "import matplotlib.pyplot as plt\n",
    "\n",
    "# 1. Cargar imagen original\n",
    "imagen = cv2.imread('imagen_1920x1080.jpg')  # Reemplaza con tu archivo\n",
    "imagen_rgb = cv2.cvtColor(imagen, cv2.COLOR_BGR2RGB)\n",
    "\n",
    "\n"
   ]
  },
  {
   "cell_type": "code",
   "execution_count": null,
   "id": "b53d7d23",
   "metadata": {},
   "outputs": [],
   "source": [
    "# 2. Convertir a escala de grises\n",
    "gris = cv2.cvtColor(imagen, cv2.COLOR_BGR2GRAY)\n",
    "\n",
    "# 3. Redimensionar a 640x360\n",
    "gris_redimensionada = cv2.resize(gris, (640, 360), interpolation=cv2.INTER_AREA)\n",
    "\n",
    "# 4. Aplicar SVD\n",
    "U, S, VT = np.linalg.svd(gris_redimensionada, full_matrices=False)\n",
    "\n",
    "# Selección de componentes (por ejemplo, k=50)\n",
    "k = 50\n",
    "U_k = U[:, :k]\n",
    "S_k = np.diag(S[:k])\n",
    "VT_k = VT[:k, :]\n",
    "\n",
    "# 5. Reconstrucción de imagen comprimida\n",
    "imagen_comprimida = np.dot(U_k, np.dot(S_k, VT_k))\n",
    "\n",
    "# Visualización comparativa\n",
    "plt.figure(figsize=(12, 6))\n",
    "plt.subplot(1, 2, 1)\n",
    "plt.title('Original Redimensionada (640x360)')\n",
    "plt.imshow(gris_redimensionada, cmap='gray')\n",
    "plt.axis('off')\n",
    "\n",
    "plt.subplot(1, 2, 2)\n",
    "plt.title(f'Reconstruida con SVD (k={k})')\n",
    "plt.imshow(imagen_comprimida, cmap='gray')\n",
    "plt.axis('off')\n",
    "plt.tight_layout()\n",
    "plt.show()"
   ]
  }
 ],
 "metadata": {
  "kernelspec": {
   "display_name": "Python 3 (ipykernel)",
   "language": "python",
   "name": "python3"
  },
  "language_info": {
   "codemirror_mode": {
    "name": "ipython",
    "version": 3
   },
   "file_extension": ".py",
   "mimetype": "text/x-python",
   "name": "python",
   "nbconvert_exporter": "python",
   "pygments_lexer": "ipython3",
   "version": "3.11.5"
  }
 },
 "nbformat": 4,
 "nbformat_minor": 5
}
